{
 "cells": [
  {
   "cell_type": "code",
   "execution_count": 17,
   "metadata": {},
   "outputs": [],
   "source": [
    "import pyttsx3\n",
    "import datetime\n",
    "import speech_recognition as sr\n",
    "import wikipedia\n",
    "import smtplib\n",
    "import webbrowser as wb\n",
    "import os\n",
    "import pyautogui\n",
    "import psutil\n",
    "import pyjokes"
   ]
  },
  {
   "cell_type": "code",
   "execution_count": 2,
   "metadata": {},
   "outputs": [],
   "source": [
    "engine = pyttsx3.init()\n",
    "\n"
   ]
  },
  {
   "cell_type": "code",
   "execution_count": 3,
   "metadata": {},
   "outputs": [],
   "source": [
    "voice = engine.getProperty('voices')\n",
    "engine.setProperty('voice', voice[1].id)\n",
    "newVoiceRate = 150\n",
    "engine.setProperty('rate', newVoiceRate)\n"
   ]
  },
  {
   "cell_type": "code",
   "execution_count": 5,
   "metadata": {},
   "outputs": [],
   "source": [
    "def speak(audio):\n",
    "    engine.say(audio)\n",
    "    engine.runAndWait()\n",
    "    \n",
    "# speak(\"Hello Boss\")"
   ]
  },
  {
   "cell_type": "code",
   "execution_count": 6,
   "metadata": {},
   "outputs": [],
   "source": [
    "def time():\n",
    "    Time = datetime.datetime.now().strftime(\"%I:%M:%S\")    \n",
    "    speak(Time)\n",
    "\n",
    "time()"
   ]
  },
  {
   "cell_type": "code",
   "execution_count": 7,
   "metadata": {},
   "outputs": [],
   "source": [
    "def date():\n",
    "    year = int(datetime.datetime.now().year)\n",
    "    month = int(datetime.datetime.now().month)\n",
    "    date = int(datetime.datetime.now().day)\n",
    "    speak(\"The current date is\")\n",
    "    speak(date)\n",
    "    speak(month)\n",
    "    speak(year)\n",
    "\n",
    "# date()"
   ]
  },
  {
   "cell_type": "code",
   "execution_count": 8,
   "metadata": {},
   "outputs": [],
   "source": [
    "def wishme():\n",
    "    speak(\"Welcome back Boss !\")\n",
    "    hour = datetime.datetime.now().hour\n",
    "    if hour >= 6 and hour < 12:\n",
    "        speak(\"Good Morning Boss !\")\n",
    "    elif hour >= 12 and hour < 18:\n",
    "        speak(\"Good Afternoon Boss !\")\n",
    "    elif hour >= 18 and hour < 24:\n",
    "        speak(\"Good Evening Boss !\")\n",
    "    else:\n",
    "        speak(\"Good Night Boss !\")\n",
    "    speak(\"Friday at your service. Please tell me how can I help you?\")\n",
    "\n",
    "wishme()"
   ]
  },
  {
   "cell_type": "code",
   "execution_count": 9,
   "metadata": {},
   "outputs": [
    {
     "name": "stdout",
     "output_type": "stream",
     "text": [
      "Listening...\n",
      "Recognizing...\n",
      "result2:\n",
      "[]\n",
      "\n"
     ]
    },
    {
     "data": {
      "text/plain": [
       "'None'"
      ]
     },
     "execution_count": 9,
     "metadata": {},
     "output_type": "execute_result"
    }
   ],
   "source": [
    "def takeCommand():\n",
    "    r = sr.Recognizer()\n",
    "    with sr.Microphone() as source:\n",
    "        print(\"Listening...\")\n",
    "        r.pause_threshold = 1\n",
    "        audio = r.listen(source)\n",
    "        \n",
    "    try:\n",
    "        print(\"Recognizing...\")\n",
    "        query = r.recognize_google(audio, language='en-in')\n",
    "        print(query)\n",
    "    except Exception as e:\n",
    "        print(e)\n",
    "        speak(\"Say that again please...\")\n",
    "        return \"None\"\n",
    "    return query\n",
    "\n",
    "takeCommand()"
   ]
  },
  {
   "cell_type": "code",
   "execution_count": null,
   "metadata": {},
   "outputs": [],
   "source": [
    "def sendmail(to, content):\n",
    "    server = smtplib.SMTP('smtp.gmail.com', 587)\n",
    "    server.ehlo()\n",
    "    server.starttls()\n",
    "    server.login(\"test@gmail.com\", \"test@69\")\n",
    "    server.sendmail(\"test321@gmil.com\", to, content)\n",
    "    server.close()\n",
    "    "
   ]
  },
  {
   "cell_type": "code",
   "execution_count": null,
   "metadata": {},
   "outputs": [],
   "source": [
    "def screenshot():\n",
    "    img = pyautogui.screenshot()\n",
    "    img.save(\"C:\\\\Users\\\\Desktop\\\\ss.png\")"
   ]
  },
  {
   "cell_type": "code",
   "execution_count": null,
   "metadata": {},
   "outputs": [],
   "source": [
    "def cpu():\n",
    "    usage = str(psutil.cpu_percent())\n",
    "    speak(\"CPU is at\" + usage)\n",
    "    battery = psutil.sensors_battery()\n",
    "    speak(\"Battery is at\")\n",
    "    speak(battery.percent)"
   ]
  },
  {
   "cell_type": "code",
   "execution_count": null,
   "metadata": {},
   "outputs": [],
   "source": [
    "def jokes():\n",
    "    speak(pyjokes.get_joke())"
   ]
  },
  {
   "cell_type": "code",
   "execution_count": 15,
   "metadata": {},
   "outputs": [
    {
     "ename": "SyntaxError",
     "evalue": "(unicode error) 'unicodeescape' codec can't decode bytes in position 2-3: truncated \\UXXXXXXXX escape (3070667080.py, line 43)",
     "output_type": "error",
     "traceback": [
      "\u001b[1;36m  Cell \u001b[1;32mIn [15], line 43\u001b[1;36m\u001b[0m\n\u001b[1;33m    songs_dir = \"C:\\Users\\Gameplanner\\Desktop\\Handson\"\u001b[0m\n\u001b[1;37m                                                      ^\u001b[0m\n\u001b[1;31mSyntaxError\u001b[0m\u001b[1;31m:\u001b[0m (unicode error) 'unicodeescape' codec can't decode bytes in position 2-3: truncated \\UXXXXXXXX escape\n"
     ]
    }
   ],
   "source": [
    "if __name__ == \"__main__\":\n",
    "    wishme()\n",
    "\n",
    "    while True:\n",
    "        query = takeCommand().lower()\n",
    "        print(query)\n",
    "        \n",
    "        if \"time\" in query:\n",
    "            time()\n",
    "        elif \"date\" in query:\n",
    "            date()\n",
    "        elif \"offline\" in query:\n",
    "            quit()\n",
    "        elif 'wikipedia' in query:\n",
    "            speak(\"Searching...\")\n",
    "            query = query.replace(\"wikipedia\", \"\")\n",
    "            result = wikipedia.summary(query, sentences=2)\n",
    "            speak(result)\n",
    "        elif \"send email\" in query:\n",
    "            try:\n",
    "                speak(\"What should I say?\")\n",
    "                content = takeCommand()\n",
    "                to = \"test123@gmail.com\"\n",
    "                sendmail(to, content)\n",
    "                speak(content)\n",
    "                speak(\"Email sent successfully\")\n",
    "            except Exception as e:\n",
    "                speak(e)\n",
    "                print(e)\n",
    "                speak(\"Unable to send the email\")\n",
    "        elif \"search in chrome\" in query:\n",
    "            speak(\"What should I search?\")\n",
    "            chromepath = 'C:/Program Files (x86)/Google/Chrome/Application/chrome.exe %s'\n",
    "            search = takeCommand().lower()\n",
    "            wb.get(chromepath).open_new_tab(search + '.com')\n",
    "        elif \"logout\" in query:\n",
    "            os.system(\"shutdown - l\")\n",
    "        elif \"shutdown\" in query:\n",
    "            os.system(\"shutdown /s /t 1\")\n",
    "        elif \"restart\" in query:\n",
    "            os.system(\"shutdown /r /t 1\")\n",
    "        elif \"remember that\" in query:\n",
    "            speak(\"What should I remember?\")\n",
    "            data = takeCommand()\n",
    "            speak(\"You said me to remember that\" + data)\n",
    "            remember = open('data.txt', 'w')\n",
    "            remember.write(data)\n",
    "            remember.close()\n",
    "        elif \"do you know anything\" in query:\n",
    "            remember = open('data.txt', 'r')\n",
    "            speak(\"You said me to remember that\" + remember.read())\n",
    "        elif \"screenshot\" in query:\n",
    "            screenshot()\n",
    "            speak(\"Done!\")\n",
    "        elif \"cpu\" in query:\n",
    "            cpu()\n",
    "        elif \"joke\" in query:\n",
    "            jokes()\n",
    "        \n",
    "        \n",
    "\n",
    "        \n",
    "        "
   ]
  },
  {
   "cell_type": "code",
   "execution_count": null,
   "metadata": {},
   "outputs": [],
   "source": []
  }
 ],
 "metadata": {
  "kernelspec": {
   "display_name": "Python 3",
   "language": "python",
   "name": "python3"
  },
  "language_info": {
   "codemirror_mode": {
    "name": "ipython",
    "version": 3
   },
   "file_extension": ".py",
   "mimetype": "text/x-python",
   "name": "python",
   "nbconvert_exporter": "python",
   "pygments_lexer": "ipython3",
   "version": "3.10.6 (tags/v3.10.6:9c7b4bd, Aug  1 2022, 21:53:49) [MSC v.1932 64 bit (AMD64)]"
  },
  "orig_nbformat": 4,
  "vscode": {
   "interpreter": {
    "hash": "47158a5524ad99dc7365eeccd8d9c5ba8b3dae5a8497fc47d0a3e541ddb6a6ca"
   }
  }
 },
 "nbformat": 4,
 "nbformat_minor": 2
}
